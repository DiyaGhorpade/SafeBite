{
  "cells": [
    {
      "cell_type": "code",
      "execution_count": 12,
      "metadata": {
        "id": "7Ysnlu5FaSGK"
      },
      "outputs": [],
      "source": [
        "import pandas as pd\n",
        "import numpy as np\n",
        "from sklearn.model_selection import train_test_split\n",
        "from sklearn.preprocessing import OneHotEncoder\n",
        "from sklearn.compose import ColumnTransformer\n",
        "from sklearn.pipeline import Pipeline\n",
        "from sklearn.tree import DecisionTreeRegressor\n",
        "from sklearn.ensemble import RandomForestRegressor\n",
        "from sklearn.metrics import mean_squared_error, r2_score\n",
        "from joblib import dump"
      ]
    },
    {
      "cell_type": "code",
      "execution_count": 4,
      "metadata": {
        "id": "lOkwVclqaSGO"
      },
      "outputs": [],
      "source": [
        "# --- Load dataset ---\n",
        "data = pd.read_csv(r\"Datasets\\food-contamination-data-cleaned-2.csv\")"
      ]
    },
    {
      "cell_type": "code",
      "execution_count": 5,
      "metadata": {
        "id": "63UEMVjWcQzt"
      },
      "outputs": [],
      "source": [
        "# --- Define features and target variable ---\n",
        "X = data.drop('ResultValue', axis=1)\n",
        "y = data['ResultValue']"
      ]
    },
    {
      "cell_type": "code",
      "execution_count": 6,
      "metadata": {
        "id": "sDPTYPp_cQAo"
      },
      "outputs": [],
      "source": [
        "# --- Train-test split ---\n",
        "X_train, X_test, y_train, y_test = train_test_split(X, y, test_size=0.2, random_state=42)"
      ]
    },
    {
      "cell_type": "code",
      "execution_count": 7,
      "metadata": {
        "id": "oLTv2xsYaSGP"
      },
      "outputs": [],
      "source": [
        "# --- Apply log transformation to target variable ---\n",
        "y_train = np.log1p(y_train)\n",
        "y_test = np.log1p(y_test)"
      ]
    },
    {
      "cell_type": "code",
      "execution_count": 8,
      "metadata": {
        "id": "k5BP1RfCeRNA"
      },
      "outputs": [],
      "source": [
        "# Identify categorical and numerical columns (assuming you've done this)\n",
        "categorical_cols = X.select_dtypes(include=['object']).columns.tolist()\n",
        "numerical_cols = X.select_dtypes(exclude=['object']).columns.tolist()"
      ]
    },
    {
      "cell_type": "code",
      "execution_count": 9,
      "metadata": {
        "id": "Vlf-ozTvaSGP"
      },
      "outputs": [],
      "source": [
        "# --- Define model pipeline with preprocessing ---\n",
        "numerical_transformer = 'passthrough'\n",
        "categorical_transformer = Pipeline(steps=[('onehot', OneHotEncoder(handle_unknown='ignore'))])\n",
        "preprocessor = ColumnTransformer(transformers=[('num', numerical_transformer, numerical_cols),\n",
        "                                               ('cat', categorical_transformer, categorical_cols)])"
      ]
    },
    {
      "cell_type": "code",
      "execution_count": 10,
      "metadata": {
        "id": "yNJLtHbYaSGR"
      },
      "outputs": [],
      "source": [
        "# --- Decision Tree Model ---\n",
        "decision_tree = Pipeline([\n",
        "    ('preprocessor', preprocessor),\n",
        "    ('regressor', DecisionTreeRegressor(random_state=42))\n",
        "])"
      ]
    },
    {
      "cell_type": "code",
      "execution_count": 11,
      "metadata": {
        "colab": {
          "base_uri": "https://localhost:8080/"
        },
        "id": "QvHZMNxzcez8",
        "outputId": "98524044-4ccb-4665-9004-a82b9be2b4b3"
      },
      "outputs": [
        {
          "name": "stdout",
          "output_type": "stream",
          "text": [
            "Decision Tree MSE: 0.3871044290112168\n",
            "Decision Tree R2 Score: 0.8228322288638905\n"
          ]
        }
      ],
      "source": [
        "# --- Train and evaluate Decision Tree ---\n",
        "decision_tree.fit(X_train, y_train)\n",
        "y_pred_dt = decision_tree.predict(X_test)\n",
        "print(f\"Decision Tree MSE: {mean_squared_error(y_test, y_pred_dt)}\")\n",
        "print(f\"Decision Tree R2 Score: {r2_score(y_test, y_pred_dt)}\")"
      ]
    },
    {
      "cell_type": "code",
      "execution_count": 13,
      "metadata": {},
      "outputs": [
        {
          "data": {
            "text/plain": [
              "['contamination-prediction-model.joblib']"
            ]
          },
          "execution_count": 13,
          "metadata": {},
          "output_type": "execute_result"
        }
      ],
      "source": [
        "dump(decision_tree, \"contamination-prediction-model.joblib\")"
      ]
    }
  ],
  "metadata": {
    "colab": {
      "provenance": []
    },
    "kernelspec": {
      "display_name": ".venv",
      "language": "python",
      "name": "python3"
    },
    "language_info": {
      "codemirror_mode": {
        "name": "ipython",
        "version": 3
      },
      "file_extension": ".py",
      "mimetype": "text/x-python",
      "name": "python",
      "nbconvert_exporter": "python",
      "pygments_lexer": "ipython3",
      "version": "3.12.5"
    }
  },
  "nbformat": 4,
  "nbformat_minor": 0
}
