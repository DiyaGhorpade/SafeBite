{
 "cells": [
  {
   "cell_type": "code",
   "execution_count": 22,
   "metadata": {},
   "outputs": [],
   "source": [
    "import pandas as pd\n",
    "from sklearn.model_selection import train_test_split, GridSearchCV\n",
    "from sklearn.linear_model import LinearRegression\n",
    "from sklearn.metrics import mean_squared_error, r2_score\n",
    "from sklearn.preprocessing import OneHotEncoder\n",
    "from sklearn.compose import ColumnTransformer\n",
    "from sklearn.pipeline import Pipeline\n",
    "from sklearn.linear_model import Lasso\n",
    "import matplotlib.pyplot as plt\n",
    "import numpy as np\n",
    "from sklearn.tree import DecisionTreeRegressor\n",
    "from sklearn.ensemble import RandomForestRegressor"
   ]
  },
  {
   "cell_type": "code",
   "execution_count": 6,
   "metadata": {},
   "outputs": [],
   "source": [
    "# Load your data (replace 'your_data.csv' with your actual file)\n",
    "data = pd.read_csv(r\"Datasets\\food-contamination-data-cleaned-2.csv\")\n",
    "\n",
    "# Define X and Y\n",
    "X = data.drop('ResultValue', axis=1) # All columns except ResultValue\n",
    "y = data['ResultValue'] # The ResultValue column"
   ]
  },
  {
   "cell_type": "code",
   "execution_count": 7,
   "metadata": {},
   "outputs": [],
   "source": [
    "# Identify categorical and numerical columns (assuming you've done this before)\n",
    "categorical_cols = X.select_dtypes(include=['object']).columns.tolist()\n",
    "numerical_cols = X.select_dtypes(exclude=['object']).columns.tolist()\n",
    "\n",
    "# Create preprocessor (assuming you've done this before)\n",
    "numerical_transformer = 'passthrough'\n",
    "categorical_transformer = Pipeline(steps=[('onehot', OneHotEncoder(handle_unknown='ignore'))])\n",
    "preprocessor = ColumnTransformer(transformers=[('num', numerical_transformer, numerical_cols),\n",
    "                                               ('cat', categorical_transformer, categorical_cols)])"
   ]
  },
  {
   "cell_type": "code",
   "execution_count": 8,
   "metadata": {},
   "outputs": [],
   "source": [
    "# Create transformers for categorical and numerical columns\n",
    "numerical_transformer = 'passthrough' # No transformation needed for numerical\n",
    "\n",
    "categorical_transformer = Pipeline(steps=[\n",
    "    ('onehot', OneHotEncoder(handle_unknown='ignore'))\n",
    "])\n",
    "\n",
    "# Combine transformers using ColumnTransformer\n",
    "preprocessor = ColumnTransformer(\n",
    "    transformers=[\n",
    "        ('num', numerical_transformer, numerical_cols),\n",
    "        ('cat', categorical_transformer, categorical_cols)\n",
    "    ])\n",
    "\n",
    "# Create a pipeline with preprocessing and the linear regression model\n",
    "model = Pipeline(steps=[('preprocessor', preprocessor),\n",
    "                      ('regressor', LinearRegression())])"
   ]
  },
  {
   "cell_type": "code",
   "execution_count": 9,
   "metadata": {},
   "outputs": [],
   "source": [
    "# Split data into training and testing sets\n",
    "X_train, X_test, y_train, y_test = train_test_split(X, y, test_size=0.2, random_state=42)\n",
    "\n",
    "# Train the model\n",
    "model.fit(X_train, y_train)\n",
    "\n",
    "# Make predictions on the test set\n",
    "y_pred = model.predict(X_test)"
   ]
  },
  {
   "cell_type": "code",
   "execution_count": 10,
   "metadata": {},
   "outputs": [
    {
     "name": "stdout",
     "output_type": "stream",
     "text": [
      "Mean Squared Error: 1704.746408723103\n",
      "R-squared: 0.04655158721223818\n"
     ]
    }
   ],
   "source": [
    "# Evaluate the model\n",
    "mse = mean_squared_error(y_test, y_pred)\n",
    "r2 = r2_score(y_test, y_pred)   \n",
    "\n",
    "print(f'Mean Squared Error: {mse}')\n",
    "print(f'R-squared: {r2}')"
   ]
  },
  {
   "cell_type": "markdown",
   "metadata": {},
   "source": [
    "Since the r2 value is very low, the data is not related in a linear manner. it must be regularised. L1 / Lasso Regularisation is being used below"
   ]
  },
  {
   "cell_type": "code",
   "execution_count": 11,
   "metadata": {},
   "outputs": [
    {
     "name": "stderr",
     "output_type": "stream",
     "text": [
      "c:\\Users\\Ananya\\Documents\\GitHub\\SafeBite\\.venv\\Lib\\site-packages\\sklearn\\linear_model\\_coordinate_descent.py:656: ConvergenceWarning: Objective did not converge. You might want to increase the number of iterations. Duality gap: 23035910.87468704, tolerance: 6983.133609285355\n",
      "  model = cd_fast.sparse_enet_coordinate_descent(\n",
      "c:\\Users\\Ananya\\Documents\\GitHub\\SafeBite\\.venv\\Lib\\site-packages\\sklearn\\linear_model\\_coordinate_descent.py:656: ConvergenceWarning: Objective did not converge. You might want to increase the number of iterations. Duality gap: 22958295.30327101, tolerance: 6951.078707136703\n",
      "  model = cd_fast.sparse_enet_coordinate_descent(\n",
      "c:\\Users\\Ananya\\Documents\\GitHub\\SafeBite\\.venv\\Lib\\site-packages\\sklearn\\linear_model\\_coordinate_descent.py:656: ConvergenceWarning: Objective did not converge. You might want to increase the number of iterations. Duality gap: 22855603.947489653, tolerance: 6909.2075906941345\n",
      "  model = cd_fast.sparse_enet_coordinate_descent(\n",
      "c:\\Users\\Ananya\\Documents\\GitHub\\SafeBite\\.venv\\Lib\\site-packages\\sklearn\\linear_model\\_coordinate_descent.py:656: ConvergenceWarning: Objective did not converge. You might want to increase the number of iterations. Duality gap: 22871801.094512634, tolerance: 6910.561009616364\n",
      "  model = cd_fast.sparse_enet_coordinate_descent(\n",
      "c:\\Users\\Ananya\\Documents\\GitHub\\SafeBite\\.venv\\Lib\\site-packages\\sklearn\\linear_model\\_coordinate_descent.py:656: ConvergenceWarning: Objective did not converge. You might want to increase the number of iterations. Duality gap: 23010473.22436601, tolerance: 6967.123798001029\n",
      "  model = cd_fast.sparse_enet_coordinate_descent(\n",
      "c:\\Users\\Ananya\\Documents\\GitHub\\SafeBite\\.venv\\Lib\\site-packages\\sklearn\\linear_model\\_coordinate_descent.py:656: ConvergenceWarning: Objective did not converge. You might want to increase the number of iterations. Duality gap: 23578964.97583322, tolerance: 6983.133609285355\n",
      "  model = cd_fast.sparse_enet_coordinate_descent(\n",
      "c:\\Users\\Ananya\\Documents\\GitHub\\SafeBite\\.venv\\Lib\\site-packages\\sklearn\\linear_model\\_coordinate_descent.py:656: ConvergenceWarning: Objective did not converge. You might want to increase the number of iterations. Duality gap: 23499894.365853194, tolerance: 6951.078707136703\n",
      "  model = cd_fast.sparse_enet_coordinate_descent(\n",
      "c:\\Users\\Ananya\\Documents\\GitHub\\SafeBite\\.venv\\Lib\\site-packages\\sklearn\\linear_model\\_coordinate_descent.py:656: ConvergenceWarning: Objective did not converge. You might want to increase the number of iterations. Duality gap: 23207131.8576776, tolerance: 6909.2075906941345\n",
      "  model = cd_fast.sparse_enet_coordinate_descent(\n",
      "c:\\Users\\Ananya\\Documents\\GitHub\\SafeBite\\.venv\\Lib\\site-packages\\sklearn\\linear_model\\_coordinate_descent.py:656: ConvergenceWarning: Objective did not converge. You might want to increase the number of iterations. Duality gap: 23236019.829114765, tolerance: 6910.561009616364\n",
      "  model = cd_fast.sparse_enet_coordinate_descent(\n",
      "c:\\Users\\Ananya\\Documents\\GitHub\\SafeBite\\.venv\\Lib\\site-packages\\sklearn\\linear_model\\_coordinate_descent.py:656: ConvergenceWarning: Objective did not converge. You might want to increase the number of iterations. Duality gap: 23255620.02861666, tolerance: 6967.123798001029\n",
      "  model = cd_fast.sparse_enet_coordinate_descent(\n"
     ]
    },
    {
     "name": "stdout",
     "output_type": "stream",
     "text": [
      "Best Lasso alpha: 0.001\n"
     ]
    },
    {
     "name": "stderr",
     "output_type": "stream",
     "text": [
      "c:\\Users\\Ananya\\Documents\\GitHub\\SafeBite\\.venv\\Lib\\site-packages\\sklearn\\linear_model\\_coordinate_descent.py:656: ConvergenceWarning: Objective did not converge. You might want to increase the number of iterations. Duality gap: 28728446.119015217, tolerance: 8680.279789380971\n",
      "  model = cd_fast.sparse_enet_coordinate_descent(\n"
     ]
    }
   ],
   "source": [
    "# Create Lasso model in a pipeline\n",
    "lasso_model = Pipeline(steps=[('preprocessor', preprocessor), \n",
    "                              ('regressor', Lasso())])\n",
    "\n",
    "# Define the parameter grid for alpha tuning\n",
    "param_grid = {'regressor__alpha': [0.001, 0.01, 0.1, 1, 10, 100]}\n",
    "\n",
    "# Create GridSearchCV object for cross-validation\n",
    "grid_search_lasso = GridSearchCV(lasso_model, param_grid, cv=5, scoring='neg_mean_squared_error')\n",
    "\n",
    "# Fit the GridSearchCV object\n",
    "grid_search_lasso.fit(X_train, y_train)\n",
    "\n",
    "# Print the best alpha value\n",
    "print(f'Best Lasso alpha: {grid_search_lasso.best_params_[\"regressor__alpha\"]}')\n",
    "\n",
    "# Get the best Lasso model\n",
    "best_lasso_model = grid_search_lasso.best_estimator_"
   ]
  },
  {
   "cell_type": "code",
   "execution_count": 12,
   "metadata": {},
   "outputs": [
    {
     "name": "stdout",
     "output_type": "stream",
     "text": [
      "Lasso MSE: 1188.1131293703013\n",
      "Lasso R-squared: 0.3354996546032245\n"
     ]
    }
   ],
   "source": [
    "# Evaluate the best Lasso model on the test set\n",
    "y_pred_lasso = best_lasso_model.predict(X_test)\n",
    "mse_lasso = mean_squared_error(y_test, y_pred_lasso)\n",
    "r2_lasso = r2_score(y_test, y_pred_lasso)\n",
    "\n",
    "print(f'Lasso MSE: {mse_lasso}')\n",
    "print(f'Lasso R-squared: {r2_lasso}')"
   ]
  },
  {
   "cell_type": "markdown",
   "metadata": {},
   "source": [
    "While the MSE value has lowered, the deviation is still much to large.\n",
    "R2 values indicate that the model is not able to explain 66% of the variance in contamination\n",
    "\n",
    "Next approach:\n",
    "1. transformations\n",
    "2. decision tree regressors"
   ]
  },
  {
   "cell_type": "markdown",
   "metadata": {},
   "source": [
    "For transformations:\n",
    "1. Visualise using histogram\n",
    "2. try log transformation \n",
    "3. if doesnt work, try box-cox or yeo-johnson"
   ]
  },
  {
   "cell_type": "code",
   "execution_count": 13,
   "metadata": {},
   "outputs": [
    {
     "data": {
      "image/png": "[encoded data removed]",
      "text/plain": [
       "<Figure size 640x480 with 1 Axes>"
      ]
     },
     "metadata": {},
     "output_type": "display_data"
    }
   ],
   "source": [
    "plt.hist(data['ResultValue'])\n",
    "plt.show()"
   ]
  },
  {
   "cell_type": "markdown",
   "metadata": {},
   "source": [
    "Since the data is heavily skewed to the right, we'll first perform log transformation and train the model"
   ]
  },
  {
   "cell_type": "code",
   "execution_count": 14,
   "metadata": {},
   "outputs": [],
   "source": [
    "# Split data into training and testing sets\n",
    "X_train, X_test, y_train, y_test = train_test_split(X, y, test_size=0.2, random_state=42)\n",
    "\n",
    "# Apply log transformation to the target variable (y)\n",
    "y_train_log = np.log1p(y_train)\n",
    "y_test_log = np.log1p(y_test)\n",
    "\n",
    "#run the preprocessing cell after this if necessary"
   ]
  },
  {
   "cell_type": "code",
   "execution_count": 15,
   "metadata": {},
   "outputs": [],
   "source": [
    "# Create Decision Tree Regressor model in a pipeline\n",
    "decision_tree_log_model = Pipeline(steps=[('preprocessor', preprocessor),\n",
    "                                         ('regressor', DecisionTreeRegressor(random_state=42))])\n",
    "\n",
    "# Train the model on the log-transformed target variable\n",
    "decision_tree_log_model.fit(X_train, y_train_log)\n",
    "\n",
    "# Make predictions on the test set\n",
    "y_pred_log = decision_tree_log_model.predict(X_test)\n",
    "\n",
    "# Inverse transform the predictions back to the original scale\n",
    "y_pred_original_scale = np.expm1(y_pred_log)"
   ]
  },
  {
   "cell_type": "code",
   "execution_count": 16,
   "metadata": {},
   "outputs": [
    {
     "name": "stdout",
     "output_type": "stream",
     "text": [
      "Results with Log Transformation:\n",
      "Decision Tree MSE (Original Scale): 902.5868017951003\n",
      "Decision Tree R-squared (Original Scale): 0.495191807314433\n"
     ]
    }
   ],
   "source": [
    "# Evaluate the model on the original scale predictions\n",
    "mse_log = mean_squared_error(y_test, y_pred_original_scale)\n",
    "r2_log = r2_score(y_test, y_pred_original_scale)\n",
    "\n",
    "print(\"Results with Log Transformation:\")\n",
    "print(f'Decision Tree MSE (Original Scale): {mse_log}')\n",
    "print(f'Decision Tree R-squared (Original Scale): {r2_log}')"
   ]
  },
  {
   "cell_type": "code",
   "execution_count": 17,
   "metadata": {},
   "outputs": [
    {
     "name": "stdout",
     "output_type": "stream",
     "text": [
      "\n",
      "Results without Log Transformation:\n",
      "Decision Tree MSE (Original Scale): 904.4470350562799\n",
      "Decision Tree R-squared (Original Scale): 0.49415139658752905\n"
     ]
    }
   ],
   "source": [
    "# You can also train and evaluate a model without log transformation for comparison\n",
    "decision_tree_original_model = Pipeline(steps=[('preprocessor', preprocessor),\n",
    "                                              ('regressor', DecisionTreeRegressor(random_state=42))])\n",
    "decision_tree_original_model.fit(X_train, y_train)\n",
    "y_pred_original = decision_tree_original_model.predict(X_test)\n",
    "mse_original = mean_squared_error(y_test, y_pred_original)\n",
    "r2_original = r2_score(y_test, y_pred_original)\n",
    "\n",
    "print(\"\\nResults without Log Transformation:\")\n",
    "print(f'Decision Tree MSE (Original Scale): {mse_original}')\n",
    "print(f'Decision Tree R-squared (Original Scale): {r2_original}')   "
   ]
  },
  {
   "cell_type": "code",
   "execution_count": 18,
   "metadata": {},
   "outputs": [
    {
     "name": "stdout",
     "output_type": "stream",
     "text": [
      "Predicted Contamination Level: 1.00 micrograms/kg\n"
     ]
    }
   ],
   "source": [
    "#User testing block\n",
    "\n",
    "def predict_contamination(user_input_dict, best_model, numerical_cols, categorical_cols):\n",
    "    \"\"\"\n",
    "    Predicts the contamination level based on user input.\n",
    "\n",
    "    Args:\n",
    "        user_input_dict (dict): A dictionary containing the user's input\n",
    "                                 for the features (keys should match column names).\n",
    "        best_model (Pipeline): The trained best Decision Tree Regressor model.\n",
    "        numerical_cols (list): List of numerical column names.\n",
    "        categorical_cols (list): List of categorical column names.\n",
    "\n",
    "    Returns:\n",
    "        float: The predicted contamination level (original scale).\n",
    "    \"\"\"\n",
    "    user_input_df = pd.DataFrame([user_input_dict])\n",
    "\n",
    "    # Ensure all necessary columns are present (handle missing if needed)\n",
    "    for col in numerical_cols:\n",
    "        if col not in user_input_df.columns:\n",
    "            user_input_df[col] = 0  # Or some other appropriate default\n",
    "\n",
    "    for col in categorical_cols:\n",
    "        if col not in user_input_df.columns:\n",
    "            user_input_df[col] = 'unknown'  # Or some other appropriate default\n",
    "\n",
    "    # Preprocess the user input using the same preprocessor in the pipeline\n",
    "    preprocessed_input = best_model.named_steps['preprocessor'].transform(user_input_df)\n",
    "\n",
    "    # Make prediction (which will be on the log scale)\n",
    "    predicted_log = best_model.named_steps['regressor'].predict(preprocessed_input)\n",
    "\n",
    "    # Inverse transform the prediction to the original scale\n",
    "    predicted_original_scale = np.expm1(predicted_log)[0]  # [0] to get the single prediction\n",
    "\n",
    "    return predicted_original_scale\n",
    "\n",
    "# Example user input\n",
    "user_input = {\n",
    "    'FoodID': 123,\n",
    "    'CountryName': 'USA',\n",
    "    'FoodGroupName': 'Fruits',\n",
    "    'GEMSFoodName': 'Apples',\n",
    "    'ContaminantID': 45,\n",
    "    'ContaminantName': 'Pesticide X',\n",
    "    'Year': 2024,\n",
    "    'ContaminationIndividualID': 789  # Include if it was part of your features\n",
    "}\n",
    "\n",
    "#update before every test\n",
    "model_to_be_tested = decision_tree_log_model\n",
    "\n",
    "# Get the prediction\n",
    "prediction = predict_contamination(user_input, model_to_be_tested, numerical_cols, categorical_cols)\n",
    "\n",
    "print(f\"Predicted Contamination Level: {prediction:.2f} micrograms/kg\")"
   ]
  },
  {
   "cell_type": "code",
   "execution_count": 19,
   "metadata": {},
   "outputs": [
    {
     "name": "stdout",
     "output_type": "stream",
     "text": [
      "Best hyperparameters: {'regressor__max_depth': None, 'regressor__max_features': None, 'regressor__min_samples_leaf': 10, 'regressor__min_samples_split': 2}\n"
     ]
    }
   ],
   "source": [
    "# Split data into training and testing sets\n",
    "X_train, X_test, y_train, y_test = train_test_split(X, y, test_size=0.2, random_state=42)\n",
    "\n",
    "# Apply log transformation to the target variable (y_train and y_test)\n",
    "y_train_log = np.log1p(y_train)\n",
    "y_test_log = np.log1p(y_test)\n",
    "\n",
    "# Identify categorical and numerical columns (assuming you've done this)\n",
    "categorical_cols = X.select_dtypes(include=['object']).columns.tolist()\n",
    "numerical_cols = X.select_dtypes(exclude=['object']).columns.tolist()\n",
    "\n",
    "# Create preprocessor (assuming you've done this)\n",
    "numerical_transformer = 'passthrough'\n",
    "categorical_transformer = Pipeline(steps=[('onehot', OneHotEncoder(handle_unknown='ignore'))])\n",
    "preprocessor = ColumnTransformer(transformers=[('num', numerical_transformer, numerical_cols),\n",
    "                                               ('cat', categorical_transformer, categorical_cols)])\n",
    "\n",
    "# Create the Decision Tree Regressor pipeline\n",
    "pipeline = Pipeline(steps=[('preprocessor', preprocessor),\n",
    "                           ('regressor', DecisionTreeRegressor(random_state=42))])\n",
    "\n",
    "# Define the hyperparameter grid to search\n",
    "param_grid = {\n",
    "    'regressor__max_depth': [None, 5, 10, 15, 20],\n",
    "    'regressor__min_samples_split': [2, 5, 10, 20],\n",
    "    'regressor__min_samples_leaf': [1, 3, 5, 10],\n",
    "    'regressor__max_features': ['sqrt', 'log2', None]  # None means consider all features\n",
    "}\n",
    "\n",
    "# Create the GridSearchCV object\n",
    "grid_search = GridSearchCV(pipeline, param_grid, cv=5, scoring='neg_mean_squared_error', n_jobs=-1)\n",
    "\n",
    "# Fit the GridSearchCV object to the training data (using the log-transformed target)\n",
    "grid_search.fit(X_train, y_train_log)\n",
    "\n",
    "# Print the best hyperparameters found\n",
    "print(f\"Best hyperparameters: {grid_search.best_params_}\")\n",
    "\n",
    "# Get the best model from GridSearchCV\n",
    "best_decision_tree_model = grid_search.best_estimator_\n",
    "\n",
    "# Make predictions on the test set using the best model\n",
    "y_pred_log_tuned = best_decision_tree_model.predict(X_test)\n",
    "\n",
    "# Inverse transform the predictions back to the original scale\n",
    "y_pred_original_scale_tuned = np.expm1(y_pred_log_tuned)"
   ]
  },
  {
   "cell_type": "code",
   "execution_count": 20,
   "metadata": {},
   "outputs": [
    {
     "name": "stdout",
     "output_type": "stream",
     "text": [
      "\n",
      "Results with Tuned Decision Tree (Log Transformed Target):\n",
      "Decision Tree MSE (Original Scale): 691.1721707067279\n",
      "Decision Tree R-squared (Original Scale): 0.6134339947857661\n"
     ]
    }
   ],
   "source": [
    "# Evaluate the best model on the original scale predictions\n",
    "mse_tuned = mean_squared_error(y_test, y_pred_original_scale_tuned)\n",
    "r2_tuned = r2_score(y_test, y_pred_original_scale_tuned)\n",
    "\n",
    "print(\"\\nResults with Tuned Decision Tree (Log Transformed Target):\")\n",
    "print(f'Decision Tree MSE (Original Scale): {mse_tuned}')\n",
    "print(f'Decision Tree R-squared (Original Scale): {r2_tuned}')"
   ]
  },
  {
   "cell_type": "markdown",
   "metadata": {},
   "source": [
    "The model is performing better, to further optimise it, we evaluate feature importance. It tells us which feature influences the result the most"
   ]
  },
  {
   "cell_type": "code",
   "execution_count": 21,
   "metadata": {},
   "outputs": [
    {
     "name": "stdout",
     "output_type": "stream",
     "text": [
      "Feature Importances:\n",
      "num__ContaminationIndividualID: 0.4864\n",
      "num__ContaminantID: 0.3533\n",
      "cat__CountryName_China: 0.0611\n",
      "cat__CountryName_Singapore: 0.0276\n",
      "num__Year: 0.0162\n",
      "cat__ContaminantName_Lead: 0.0064\n",
      "num__FoodID: 0.0061\n",
      "cat__GEMSFoodName_FISHES: 0.0051\n",
      "cat__CountryName_HONG KONG SAR: 0.0051\n",
      "cat__CountryName_Republic of Korea: 0.0044\n",
      "cat__ContaminantName_Iodine 131: 0.0040\n",
      "cat__GEMSFoodName_Cattle milk: 0.0020\n",
      "cat__FoodGroupName_Fruit and fruit products: 0.0018\n",
      "cat__GEMSFoodName_Rays: 0.0017\n",
      "cat__ContaminantName_Other: 0.0017\n",
      "cat__GEMSFoodName_Flounders: 0.0016\n",
      "cat__GEMSFoodName_MEAT FROM MAMMALS OTHER THAN MARINE MAMMALS: 0.0012\n",
      "cat__FoodGroupName_Vegetables and vegetable products (including fungi): 0.0012\n",
      "cat__GEMSFoodName_Pollack: 0.0012\n",
      "cat__CountryName_Thailand: 0.0010\n",
      "cat__FoodGroupName_Meat and meat products (including edible offal): 0.0009\n",
      "cat__GEMSFoodName_Starchy roots and tubers NES: 0.0008\n",
      "cat__GEMSFoodName_Mushrooms: 0.0008\n",
      "cat__ContaminantName_Cadmium: 0.0006\n",
      "cat__FoodGroupName_Milk and dairy products: 0.0006\n",
      "cat__GEMSFoodName_Spinach (bunch): 0.0006\n",
      "cat__GEMSFoodName_Pig meat: 0.0005\n",
      "cat__GEMSFoodName_LEAFY VEGETABLES: 0.0005\n",
      "cat__FoodGroupName_Starchy roots and tubers: 0.0005\n",
      "cat__GEMSFoodName_Bamboo shoots: 0.0004\n",
      "cat__GEMSFoodName_Vegetables and vegetable products NES: 0.0004\n",
      "cat__CountryName_Japan: 0.0004\n",
      "cat__GEMSFoodName_Cattle meat: 0.0004\n",
      "cat__FoodGroupName_Eggs and egg products: 0.0004\n",
      "cat__GEMSFoodName_Garlic: 0.0003\n",
      "cat__GEMSFoodName_CITRUS FRUITS: 0.0003\n",
      "cat__FoodGroupName_Fish and other seafood (including amphibians, reptiles, snails and insects): 0.0003\n",
      "cat__GEMSFoodName_Clams: 0.0003\n",
      "cat__GEMSFoodName_Peppers, sweet (incl. pim(i)ento): 0.0002\n",
      "cat__GEMSFoodName_Shrimps and prawns: 0.0002\n",
      "cat__GEMSFoodName_Grapes: 0.0002\n",
      "cat__GEMSFoodName_MILKS: 0.0001\n",
      "cat__GEMSFoodName_Spring onion: 0.0001\n",
      "cat__GEMSFoodName_Pig liver: 0.0001\n",
      "cat__GEMSFoodName_Taro: 0.0001\n",
      "cat__GEMSFoodName_Pear: 0.0001\n",
      "cat__GEMSFoodName_Fruit and fruit products NES: 0.0001\n",
      "cat__GEMSFoodName_Apple: 0.0001\n",
      "cat__GEMSFoodName_Apricot: 0.0001\n",
      "cat__GEMSFoodName_Kiwi fruit: 0.0001\n",
      "cat__GEMSFoodName_FRESH WATER FISHES: 0.0001\n",
      "cat__GEMSFoodName_Leek: 0.0001\n",
      "cat__GEMSFoodName_Meat and meat products NES: 0.0001\n",
      "cat__GEMSFoodName_Legumes and pulses NES: 0.0001\n",
      "cat__GEMSFoodName_Mackerel: 0.0001\n",
      "cat__GEMSFoodName_Fig: 0.0000\n",
      "cat__GEMSFoodName_MARINE FISHES: 0.0000\n",
      "cat__GEMSFoodName_Trout: 0.0000\n",
      "cat__GEMSFoodName_CRUSTACEANS: 0.0000\n",
      "cat__GEMSFoodName_Pig kidney: 0.0000\n",
      "cat__FoodGroupName_Legumes and pulses: 0.0000\n",
      "cat__GEMSFoodName_Soya bean (dry): 0.0000\n",
      "cat__GEMSFoodName_Mandarin: 0.0000\n",
      "cat__GEMSFoodName_MARINE MAMMALS: 0.0000\n",
      "cat__GEMSFoodName_Egg plant: 0.0000\n",
      "cat__GEMSFoodName_Carrot: 0.0000\n",
      "cat__GEMSFoodName_Peach: 0.0000\n",
      "cat__GEMSFoodName_Celery (whole): 0.0000\n",
      "cat__GEMSFoodName_Lettuce, leaf: 0.0000\n",
      "cat__GEMSFoodName_Salmon, Pacific: 0.0000\n",
      "cat__GEMSFoodName_Lentils: 0.0000\n",
      "cat__GEMSFoodName_Herring: 0.0000\n",
      "cat__GEMSFoodName_BULB VEGETABLES: 0.0000\n",
      "cat__GEMSFoodName_Potato: 0.0000\n",
      "cat__GEMSFoodName_Oysters (including cupped oysters): 0.0000\n",
      "cat__GEMSFoodName_Sweet potato: 0.0000\n",
      "cat__GEMSFoodName_Peppers, chili: 0.0000\n",
      "cat__GEMSFoodName_Crabs: 0.0000\n",
      "cat__GEMSFoodName_Mussels: 0.0000\n",
      "cat__GEMSFoodName_Pumpkins: 0.0000\n",
      "cat__GEMSFoodName_Octopuses: 0.0000\n",
      "cat__GEMSFoodName_Chicken eggs: 0.0000\n",
      "cat__GEMSFoodName_Yams: 0.0000\n",
      "cat__GEMSFoodName_Tomato: 0.0000\n",
      "cat__GEMSFoodName_Chicken meat: 0.0000\n",
      "cat__GEMSFoodName_Asparagus: 0.0000\n",
      "cat__CountryName_India: 0.0000\n",
      "cat__CountryName_Indonesia: 0.0000\n",
      "cat__GEMSFoodName_ASSORTED (SUB)TROPICAL FRUITS: 0.0000\n",
      "cat__GEMSFoodName_Artichoke globe: 0.0000\n",
      "cat__GEMSFoodName_BERRIES AND OTHER SMALL FRUITS: 0.0000\n",
      "cat__GEMSFoodName_BUTTER AND OTHER ANIMAL FAT EMULSION: 0.0000\n",
      "cat__GEMSFoodName_Banana: 0.0000\n",
      "cat__GEMSFoodName_Barramundi: 0.0000\n",
      "cat__GEMSFoodName_Beans (dry): 0.0000\n",
      "cat__GEMSFoodName_Beans, shelled (immature seeds): 0.0000\n",
      "cat__GEMSFoodName_Beetroot: 0.0000\n",
      "cat__GEMSFoodName_Blueberries: 0.0000\n",
      "cat__GEMSFoodName_Bottle gourd: 0.0000\n",
      "cat__GEMSFoodName_Brassica leafy vegetables: 0.0000\n",
      "cat__GEMSFoodName_Bream: 0.0000\n",
      "cat__GEMSFoodName_Broad bean, shelled (immature seeds): 0.0000\n",
      "cat__GEMSFoodName_Broccoli: 0.0000\n",
      "cat__GEMSFoodName_Broccoli, Chinese: 0.0000\n",
      "cat__GEMSFoodName_CHEESE AND ANALOGUES: 0.0000\n",
      "cat__GEMSFoodName_Cabbage, head: 0.0000\n",
      "cat__GEMSFoodName_Carambola (= star fruit): 0.0000\n",
      "cat__GEMSFoodName_Carps: 0.0000\n",
      "cat__GEMSFoodName_Cauliflower (head): 0.0000\n",
      "cat__GEMSFoodName_Cherries: 0.0000\n",
      "cat__GEMSFoodName_Chicory leaves (head): 0.0000\n",
      "cat__GEMSFoodName_Chinese cabbage, type pak-choi: 0.0000\n",
      "cat__GEMSFoodName_Chinese cabbage, type pe-tsai: 0.0000\n",
      "cat__GEMSFoodName_Cod: 0.0000\n",
      "cat__GEMSFoodName_Corn salad: 0.0000\n",
      "cat__GEMSFoodName_Cos lettuce: 0.0000\n",
      "cat__GEMSFoodName_Cress, garden: 0.0000\n",
      "cat__GEMSFoodName_Cucumber: 0.0000\n",
      "cat__GEMSFoodName_Custard apple: 0.0000\n",
      "cat__GEMSFoodName_DIADROMOUS FISHES: 0.0000\n",
      "cat__GEMSFoodName_DRIED FRUITS: 0.0000\n",
      "cat__GEMSFoodName_Dandelion leaves: 0.0000\n",
      "cat__GEMSFoodName_Date: 0.0000\n",
      "cat__GEMSFoodName_Deer meat: 0.0000\n",
      "cat__GEMSFoodName_Dried fish: 0.0000\n",
      "cat__GEMSFoodName_Duck eggs: 0.0000\n",
      "cat__GEMSFoodName_Duck meat: 0.0000\n",
      "cat__GEMSFoodName_Durian: 0.0000\n",
      "cat__GEMSFoodName_EDIBLE OFFALS (MAMMALIANS): 0.0000\n",
      "cat__GEMSFoodName_Eels: 0.0000\n",
      "cat__GEMSFoodName_Eggs and egg products NES: 0.0000\n",
      "cat__GEMSFoodName_FERMENTED MILK PRODUCTS: 0.0000\n",
      "cat__GEMSFoodName_FRUITING VEGETABLES: 0.0000\n",
      "cat__GEMSFoodName_Fungi, edible (not including mushrooms): 0.0000\n",
      "cat__GEMSFoodName_Goat meat: 0.0000\n",
      "cat__GEMSFoodName_Guava: 0.0000\n",
      "cat__GEMSFoodName_Jackfruit: 0.0000\n",
      "cat__GEMSFoodName_Jujube, Indian: 0.0000\n",
      "cat__GEMSFoodName_Kale: 0.0000\n",
      "cat__GEMSFoodName_Kohlrabi: 0.0000\n",
      "cat__GEMSFoodName_Kumquats: 0.0000\n",
      "cat__GEMSFoodName_LEGUME VEGETABLE: 0.0000\n",
      "cat__GEMSFoodName_Lemon: 0.0000\n",
      "cat__GEMSFoodName_Lentil (dry): 0.0000\n",
      "cat__GEMSFoodName_Lettuce, head: 0.0000\n",
      "cat__GEMSFoodName_Lime: 0.0000\n",
      "cat__GEMSFoodName_Litchi: 0.0000\n",
      "cat__GEMSFoodName_Lobsters: 0.0000\n",
      "cat__GEMSFoodName_Longan: 0.0000\n",
      "cat__GEMSFoodName_Loofah, angled (= angled gourd): 0.0000\n",
      "cat__GEMSFoodName_Loquat: 0.0000\n",
      "cat__GEMSFoodName_Mandarin + mandarin-like hybrid: 0.0000\n",
      "cat__GEMSFoodName_Mango: 0.0000\n",
      "cat__GEMSFoodName_Melons, except watermelon: 0.0000\n",
      "cat__GEMSFoodName_Milk and dairy products NES: 0.0000\n",
      "cat__GEMSFoodName_Milk fats: 0.0000\n",
      "cat__GEMSFoodName_Molluscs, including cephalopods: 0.0000\n",
      "cat__GEMSFoodName_Mulberries: 0.0000\n",
      "cat__GEMSFoodName_Mustard greens: 0.0000\n",
      "cat__GEMSFoodName_Nectarine: 0.0000\n",
      "cat__GEMSFoodName_Okra: 0.0000\n",
      "cat__GEMSFoodName_Onion, Welsh: 0.0000\n",
      "cat__GEMSFoodName_Onion, bulb: 0.0000\n",
      "cat__GEMSFoodName_Orange, sweet, sour + orange-like hybrid: 0.0000\n",
      "cat__GEMSFoodName_POME FRUITS: 0.0000\n",
      "cat__GEMSFoodName_POULTRY MEAT: 0.0000\n",
      "cat__GEMSFoodName_PULSES: 0.0000\n",
      "cat__GEMSFoodName_Papaya: 0.0000\n",
      "cat__GEMSFoodName_Peas (dry) : 0.0000\n",
      "cat__GEMSFoodName_Peas (green pods & immature seeds): 0.0000\n",
      "cat__GEMSFoodName_Peas, shelled (immature seeds): 0.0000\n",
      "cat__GEMSFoodName_Perch: 0.0000\n",
      "cat__GEMSFoodName_Persimmon, Japanese: 0.0000\n",
      "cat__GEMSFoodName_Pig, edible offal of: 0.0000\n",
      "cat__GEMSFoodName_Pineapple: 0.0000\n",
      "cat__GEMSFoodName_Plaice: 0.0000\n",
      "cat__GEMSFoodName_Plum (incl dried): 0.0000\n",
      "cat__GEMSFoodName_Pomegranate: 0.0000\n",
      "cat__GEMSFoodName_Quail eggs: 0.0000\n",
      "cat__GEMSFoodName_Quince: 0.0000\n",
      "cat__GEMSFoodName_Radish: 0.0000\n",
      "cat__GEMSFoodName_Radish, Japanese: 0.0000\n",
      "cat__GEMSFoodName_Rambutan: 0.0000\n",
      "cat__GEMSFoodName_Raspberries, red, black: 0.0000\n",
      "cat__GEMSFoodName_Rhubarb: 0.0000\n",
      "cat__GEMSFoodName_Rucola: 0.0000\n",
      "cat__GEMSFoodName_STALK AND STEM VEGETABLES: 0.0000\n",
      "cat__GEMSFoodName_STONE FRUITS: 0.0000\n",
      "cat__GEMSFoodName_Sardines and sardine-type fishes: 0.0000\n",
      "cat__GEMSFoodName_Scallops: 0.0000\n",
      "cat__GEMSFoodName_Shaddock or pomelo + shaddock-like hybrid: 0.0000\n",
      "cat__GEMSFoodName_Shallot: 0.0000\n",
      "cat__GEMSFoodName_Sharks: 0.0000\n",
      "cat__GEMSFoodName_Sheep meat: 0.0000\n",
      "cat__GEMSFoodName_Sole: 0.0000\n",
      "cat__GEMSFoodName_Soya bean (immature seeds): 0.0000\n",
      "cat__GEMSFoodName_Squash, summer (= courgette): 0.0000\n",
      "cat__GEMSFoodName_Squids: 0.0000\n",
      "cat__GEMSFoodName_Strawberry: 0.0000\n",
      "cat__GEMSFoodName_Sweet corn (corn-on-the-cob): 0.0000\n",
      "cat__GEMSFoodName_Sweet corn (kernels): 0.0000\n",
      "cat__GEMSFoodName_Tamarind (sweet): 0.0000\n",
      "cat__GEMSFoodName_Tomato paste: 0.0000\n",
      "cat__GEMSFoodName_Tree tomato: 0.0000\n",
      "cat__GEMSFoodName_Tuna: 0.0000\n",
      "cat__GEMSFoodName_Turkey meat: 0.0000\n",
      "cat__GEMSFoodName_Turnip, garden: 0.0000\n",
      "cat__GEMSFoodName_Watercress: 0.0000\n",
      "cat__GEMSFoodName_Watermelon: 0.0000\n",
      "cat__GEMSFoodName_parsley, turnip-rooted: 0.0000\n",
      "cat__ContaminantName_3-Chloro-1,2-propanediol: 0.0000\n",
      "cat__ContaminantName_Aflatoxin (total): 0.0000\n",
      "cat__ContaminantName_Aflatoxin B1: 0.0000\n",
      "cat__ContaminantName_Aflatoxin B2: 0.0000\n",
      "cat__ContaminantName_Aflatoxin G1: 0.0000\n",
      "cat__ContaminantName_Aflatoxin G2: 0.0000\n",
      "cat__ContaminantName_Aflatoxin M1: 0.0000\n",
      "cat__ContaminantName_Arsenic (inorganic): 0.0000\n",
      "cat__ContaminantName_Arsenic (total): 0.0000\n",
      "cat__ContaminantName_Cesium 134: 0.0000\n",
      "cat__ContaminantName_Cesium 137: 0.0000\n",
      "cat__ContaminantName_Cesium total: 0.0000\n",
      "cat__ContaminantName_Copper: 0.0000\n",
      "cat__ContaminantName_Deoxynivalenol: 0.0000\n",
      "cat__ContaminantName_Dioxin like PCBs (WHO TEFs): 0.0000\n",
      "cat__ContaminantName_Dioxins (WHO TEFs): 0.0000\n",
      "cat__ContaminantName_Ethyl carbamate: 0.0000\n",
      "cat__ContaminantName_Fumonisin B1: 0.0000\n",
      "cat__ContaminantName_Fumonisin B2: 0.0000\n",
      "cat__ContaminantName_Fumonisin B3: 0.0000\n",
      "cat__ContaminantName_Hexachlorobenzene: 0.0000\n",
      "cat__ContaminantName_Hexachlorocyclohexanes (HCH): 0.0000\n",
      "cat__ContaminantName_Mercury: 0.0000\n",
      "cat__ContaminantName_Methyl mercury: 0.0000\n",
      "cat__ContaminantName_Nitrite: 0.0000\n",
      "cat__ContaminantName_Ochratoxin A: 0.0000\n",
      "cat__ContaminantName_Patulin: 0.0000\n",
      "cat__ContaminantName_Pyrrolizidine alkaloids: 0.0000\n",
      "cat__ContaminantName_Tin: 0.0000\n"
     ]
    }
   ],
   "source": [
    "feature_importances = best_decision_tree_model.named_steps['regressor'].feature_importances_\n",
    "\n",
    "# Get the feature names (after one-hot encoding)\n",
    "feature_names = best_decision_tree_model.named_steps['preprocessor'].get_feature_names_out()\n",
    "\n",
    "# Create a dictionary to map feature names to their importance\n",
    "importance_dict = dict(zip(feature_names, feature_importances))\n",
    "\n",
    "# Sort the features by importance (descending)\n",
    "sorted_importances = sorted(importance_dict.items(), key=lambda item: item[1], reverse=True)\n",
    "\n",
    "print(\"Feature Importances:\")\n",
    "for feature, importance in sorted_importances:\n",
    "    print(f\"{feature}: {importance:.4f}\")"
   ]
  },
  {
   "cell_type": "markdown",
   "metadata": {},
   "source": [
    "While the model is working well, a random forest regressor may work better."
   ]
  },
  {
   "cell_type": "code",
   "execution_count": 23,
   "metadata": {},
   "outputs": [],
   "source": [
    "# Split data into training and testing sets\n",
    "X_train, X_test, y_train, y_test = train_test_split(X, y, test_size=0.2, random_state=42)\n",
    "\n",
    "# Apply log transformation to the target variable (y_train and y_test)\n",
    "y_train_log = np.log1p(y_train)\n",
    "y_test_log = np.log1p(y_test)\n",
    "\n",
    "# Identify categorical and numerical columns (assuming you've done this)\n",
    "categorical_cols = X.select_dtypes(include=['object']).columns.tolist()\n",
    "numerical_cols = X.select_dtypes(exclude=['object']).columns.tolist()\n",
    "\n",
    "# Create preprocessor (assuming you've done this)\n",
    "numerical_transformer = 'passthrough'\n",
    "categorical_transformer = Pipeline(steps=[('onehot', OneHotEncoder(handle_unknown='ignore'))])\n",
    "preprocessor = ColumnTransformer(transformers=[('num', numerical_transformer, numerical_cols),\n",
    "                                               ('cat', categorical_transformer, categorical_cols)])\n",
    "\n",
    "# Create the Random Forest Regressor pipeline\n",
    "pipeline_rf = Pipeline(steps=[('preprocessor', preprocessor),\n",
    "                              ('regressor', RandomForestRegressor(random_state=42))])"
   ]
  },
  {
   "cell_type": "code",
   "execution_count": null,
   "metadata": {},
   "outputs": [],
   "source": [
    "# Define the hyperparameter grid to search for Random Forest\n",
    "param_grid_rf = {\n",
    "    'regressor__n_estimators': [100, 200, 300],\n",
    "    'regressor__max_depth': [None, 10, 20, 30],\n",
    "    'regressor__min_samples_split': [2, 5, 10],\n",
    "    'regressor__min_samples_leaf': [1, 3, 5],\n",
    "    'regressor__max_features': ['sqrt', 'log2']\n",
    "}\n",
    "\n",
    "# Create the GridSearchCV object for Random Forest\n",
    "grid_search_rf = GridSearchCV(pipeline_rf, param_grid_rf, cv=5, scoring='neg_mean_squared_error', n_jobs=-1)\n",
    "\n",
    "# Fit the GridSearchCV object to the training data (using the log-transformed target)\n",
    "grid_search_rf.fit(X_train, y_train_log)"
   ]
  },
  {
   "cell_type": "code",
   "execution_count": null,
   "metadata": {},
   "outputs": [],
   "source": [
    "# Print the best hyperparameters found for Random Forest\n",
    "print(f\"Best hyperparameters for Random Forest: {grid_search_rf.best_params_}\")\n",
    "\n",
    "# Get the best Random Forest model from GridSearchCV\n",
    "best_random_forest_model = grid_search_rf.best_estimator_\n",
    "\n",
    "# Make predictions on the test set using the best Random Forest model\n",
    "y_pred_log_rf_tuned = best_random_forest_model.predict(X_test)\n",
    "\n",
    "# Inverse transform the predictions back to the original scale\n",
    "y_pred_original_scale_rf_tuned = np.expm1(y_pred_log_rf_tuned)\n"
   ]
  },
  {
   "cell_type": "code",
   "execution_count": null,
   "metadata": {},
   "outputs": [],
   "source": [
    "# Evaluate the best Random Forest model on the original scale predictions\n",
    "mse_rf_tuned = mean_squared_error(y_test, y_pred_original_scale_rf_tuned)\n",
    "r2_rf_tuned = r2_score(y_test, y_pred_original_scale_rf_tuned)\n",
    "\n",
    "print(\"\\nResults with Tuned Random Forest (Log Transformed Target):\")\n",
    "print(f'Random Forest MSE (Original Scale): {mse_rf_tuned}')\n",
    "print(f'Random Forest R-squared (Original Scale): {r2_rf_tuned}')"
   ]
  }
 ],
 "metadata": {
  "kernelspec": {
   "display_name": ".venv",
   "language": "python",
   "name": "python3"
  },
  "language_info": {
   "codemirror_mode": {
    "name": "ipython",
    "version": 3
   },
   "file_extension": ".py",
   "mimetype": "text/x-python",
   "name": "python",
   "nbconvert_exporter": "python",
   "pygments_lexer": "ipython3",
   "version": "3.12.5"
  }
 },
 "nbformat": 4,
 "nbformat_minor": 2
}
