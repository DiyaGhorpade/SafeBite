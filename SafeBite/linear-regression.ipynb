{
 "cells": [
  {
   "cell_type": "code",
   "execution_count": 9,
   "metadata": {},
   "outputs": [],
   "source": [
    "import pandas as pd\n",
    "from sklearn.model_selection import train_test_split\n",
    "from sklearn.linear_model import LinearRegression\n",
    "from sklearn.metrics import mean_squared_error, r2_score\n",
    "from sklearn.preprocessing import OneHotEncoder\n",
    "from sklearn.compose import ColumnTransformer\n",
    "from sklearn.pipeline import Pipeline\n",
    "from sklearn.linear_model import Lasso\n",
    "from sklearn.model_selection import GridSearchCV"
   ]
  },
  {
   "cell_type": "code",
   "execution_count": null,
   "metadata": {},
   "outputs": [],
   "source": [
    "# Load your data (replace 'your_data.csv' with your actual file)\n",
    "data = pd.read_csv(r\"SafeBite\\food-contamination-data-cleaned-2.csv\")\n",
    "\n",
    "# Define X and Y\n",
    "X = data.drop('ResultValue', axis=1) # All columns except ResultValue\n",
    "y = data['ResultValue'] # The ResultValue column\n",
    "\n",
    "# Identify categorical and numerical columns\n",
    "categorical_cols = X.select_dtypes(include=['object']).columns.tolist()\n",
    "numerical_cols = X.select_dtypes(exclude=['object']).columns.tolist()"
   ]
  },
  {
   "cell_type": "code",
   "execution_count": 6,
   "metadata": {},
   "outputs": [],
   "source": [
    "# Create transformers for categorical and numerical columns\n",
    "numerical_transformer = 'passthrough' # No transformation needed for numerical\n",
    "\n",
    "categorical_transformer = Pipeline(steps=[\n",
    "    ('onehot', OneHotEncoder(handle_unknown='ignore'))\n",
    "])\n",
    "\n",
    "# Combine transformers using ColumnTransformer\n",
    "preprocessor = ColumnTransformer(\n",
    "    transformers=[\n",
    "        ('num', numerical_transformer, numerical_cols),\n",
    "        ('cat', categorical_transformer, categorical_cols)\n",
    "    ])\n",
    "\n",
    "# Create a pipeline with preprocessing and the linear regression model\n",
    "model = Pipeline(steps=[('preprocessor', preprocessor),\n",
    "                      ('regressor', LinearRegression())])"
   ]
  },
  {
   "cell_type": "code",
   "execution_count": null,
   "metadata": {},
   "outputs": [],
   "source": [
    "# Split data into training and testing sets\n",
    "X_train, X_test, y_train, y_test = train_test_split(X, y, test_size=0.2, random_state=42)\n",
    "\n",
    "# Train the model\n",
    "model.fit(X_train, y_train)\n",
    "\n",
    "# Make predictions on the test set\n",
    "y_pred = model.predict(X_test)"
   ]
  },
  {
   "cell_type": "code",
   "execution_count": 8,
   "metadata": {},
   "outputs": [
    {
     "name": "stdout",
     "output_type": "stream",
     "text": [
      "Mean Squared Error: 1704.746408723103\n",
      "R-squared: 0.04655158721223818\n"
     ]
    }
   ],
   "source": [
    "# Evaluate the model\n",
    "mse = mean_squared_error(y_test, y_pred)\n",
    "r2 = r2_score(y_test, y_pred)\n",
    "\n",
    "print(f'Mean Squared Error: {mse}')\n",
    "print(f'R-squared: {r2}')"
   ]
  },
  {
   "cell_type": "markdown",
   "metadata": {},
   "source": [
    "Since the r2 value is very low, the data is not related in a linear manner. it must be regularised. L1 / Lasso Regularisation is being used below"
   ]
  },
  {
   "cell_type": "code",
   "execution_count": 10,
   "metadata": {},
   "outputs": [
    {
     "name": "stderr",
     "output_type": "stream",
     "text": [
      "c:\\Users\\Ananya\\Documents\\GitHub\\SafeBite\\.venv\\Lib\\site-packages\\sklearn\\linear_model\\_coordinate_descent.py:656: ConvergenceWarning: Objective did not converge. You might want to increase the number of iterations. Duality gap: 23035910.87468704, tolerance: 6983.133609285355\n",
      "  model = cd_fast.sparse_enet_coordinate_descent(\n",
      "c:\\Users\\Ananya\\Documents\\GitHub\\SafeBite\\.venv\\Lib\\site-packages\\sklearn\\linear_model\\_coordinate_descent.py:656: ConvergenceWarning: Objective did not converge. You might want to increase the number of iterations. Duality gap: 22958295.30327101, tolerance: 6951.078707136703\n",
      "  model = cd_fast.sparse_enet_coordinate_descent(\n",
      "c:\\Users\\Ananya\\Documents\\GitHub\\SafeBite\\.venv\\Lib\\site-packages\\sklearn\\linear_model\\_coordinate_descent.py:656: ConvergenceWarning: Objective did not converge. You might want to increase the number of iterations. Duality gap: 22855603.947489653, tolerance: 6909.2075906941345\n",
      "  model = cd_fast.sparse_enet_coordinate_descent(\n",
      "c:\\Users\\Ananya\\Documents\\GitHub\\SafeBite\\.venv\\Lib\\site-packages\\sklearn\\linear_model\\_coordinate_descent.py:656: ConvergenceWarning: Objective did not converge. You might want to increase the number of iterations. Duality gap: 22871801.094512634, tolerance: 6910.561009616364\n",
      "  model = cd_fast.sparse_enet_coordinate_descent(\n",
      "c:\\Users\\Ananya\\Documents\\GitHub\\SafeBite\\.venv\\Lib\\site-packages\\sklearn\\linear_model\\_coordinate_descent.py:656: ConvergenceWarning: Objective did not converge. You might want to increase the number of iterations. Duality gap: 23010473.22436601, tolerance: 6967.123798001029\n",
      "  model = cd_fast.sparse_enet_coordinate_descent(\n",
      "c:\\Users\\Ananya\\Documents\\GitHub\\SafeBite\\.venv\\Lib\\site-packages\\sklearn\\linear_model\\_coordinate_descent.py:656: ConvergenceWarning: Objective did not converge. You might want to increase the number of iterations. Duality gap: 23578964.97583322, tolerance: 6983.133609285355\n",
      "  model = cd_fast.sparse_enet_coordinate_descent(\n",
      "c:\\Users\\Ananya\\Documents\\GitHub\\SafeBite\\.venv\\Lib\\site-packages\\sklearn\\linear_model\\_coordinate_descent.py:656: ConvergenceWarning: Objective did not converge. You might want to increase the number of iterations. Duality gap: 23499894.365853194, tolerance: 6951.078707136703\n",
      "  model = cd_fast.sparse_enet_coordinate_descent(\n",
      "c:\\Users\\Ananya\\Documents\\GitHub\\SafeBite\\.venv\\Lib\\site-packages\\sklearn\\linear_model\\_coordinate_descent.py:656: ConvergenceWarning: Objective did not converge. You might want to increase the number of iterations. Duality gap: 23207131.8576776, tolerance: 6909.2075906941345\n",
      "  model = cd_fast.sparse_enet_coordinate_descent(\n",
      "c:\\Users\\Ananya\\Documents\\GitHub\\SafeBite\\.venv\\Lib\\site-packages\\sklearn\\linear_model\\_coordinate_descent.py:656: ConvergenceWarning: Objective did not converge. You might want to increase the number of iterations. Duality gap: 23236019.829114765, tolerance: 6910.561009616364\n",
      "  model = cd_fast.sparse_enet_coordinate_descent(\n",
      "c:\\Users\\Ananya\\Documents\\GitHub\\SafeBite\\.venv\\Lib\\site-packages\\sklearn\\linear_model\\_coordinate_descent.py:656: ConvergenceWarning: Objective did not converge. You might want to increase the number of iterations. Duality gap: 23255620.02861666, tolerance: 6967.123798001029\n",
      "  model = cd_fast.sparse_enet_coordinate_descent(\n"
     ]
    },
    {
     "name": "stdout",
     "output_type": "stream",
     "text": [
      "Best Lasso alpha: 0.001\n"
     ]
    },
    {
     "name": "stderr",
     "output_type": "stream",
     "text": [
      "c:\\Users\\Ananya\\Documents\\GitHub\\SafeBite\\.venv\\Lib\\site-packages\\sklearn\\linear_model\\_coordinate_descent.py:656: ConvergenceWarning: Objective did not converge. You might want to increase the number of iterations. Duality gap: 28728446.119015217, tolerance: 8680.279789380971\n",
      "  model = cd_fast.sparse_enet_coordinate_descent(\n"
     ]
    }
   ],
   "source": [
    "# Create Lasso model in a pipeline\n",
    "lasso_model = Pipeline(steps=[('preprocessor', preprocessor), \n",
    "                              ('regressor', Lasso())])\n",
    "\n",
    "# Define the parameter grid for alpha tuning\n",
    "param_grid = {'regressor__alpha': [0.001, 0.01, 0.1, 1, 10, 100]}\n",
    "\n",
    "# Create GridSearchCV object for cross-validation\n",
    "grid_search_lasso = GridSearchCV(lasso_model, param_grid, cv=5, scoring='neg_mean_squared_error')\n",
    "\n",
    "# Fit the GridSearchCV object\n",
    "grid_search_lasso.fit(X_train, y_train)\n",
    "\n",
    "# Print the best alpha value\n",
    "print(f'Best Lasso alpha: {grid_search_lasso.best_params_[\"regressor__alpha\"]}')\n",
    "\n",
    "# Get the best Lasso model\n",
    "best_lasso_model = grid_search_lasso.best_estimator_"
   ]
  },
  {
   "cell_type": "code",
   "execution_count": 11,
   "metadata": {},
   "outputs": [
    {
     "name": "stdout",
     "output_type": "stream",
     "text": [
      "Lasso MSE: 1188.1131293703013\n",
      "Lasso R-squared: 0.3354996546032245\n"
     ]
    }
   ],
   "source": [
    "# Evaluate the best Lasso model on the test set\n",
    "y_pred_lasso = best_lasso_model.predict(X_test)\n",
    "mse_lasso = mean_squared_error(y_test, y_pred_lasso)\n",
    "r2_lasso = r2_score(y_test, y_pred_lasso)\n",
    "\n",
    "print(f'Lasso MSE: {mse_lasso}')\n",
    "print(f'Lasso R-squared: {r2_lasso}')"
   ]
  }
 ],
 "metadata": {
  "kernelspec": {
   "display_name": ".venv",
   "language": "python",
   "name": "python3"
  },
  "language_info": {
   "codemirror_mode": {
    "name": "ipython",
    "version": 3
   },
   "file_extension": ".py",
   "mimetype": "text/x-python",
   "name": "python",
   "nbconvert_exporter": "python",
   "pygments_lexer": "ipython3",
   "version": "3.12.5"
  }
 },
 "nbformat": 4,
 "nbformat_minor": 2
}
