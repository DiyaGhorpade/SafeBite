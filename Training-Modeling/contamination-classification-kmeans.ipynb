{
 "cells": [
  {
   "cell_type": "code",
   "execution_count": 190,
   "id": "20642f2f-46d9-480f-a420-5c3fe3fcd3b0",
   "metadata": {},
   "outputs": [],
   "source": [
    "import pandas as pd\n",
    "import numpy as np\n",
    "import seaborn as sns\n",
    "import matplotlib.pyplot as plt\n",
    "from sklearn.cluster import KMeans\n",
    "from sklearn.preprocessing import StandardScaler, OneHotEncoder\n",
    "from sklearn.metrics import silhouette_score\n",
    "from sklearn.decomposition import PCA"
   ]
  },
  {
   "cell_type": "code",
   "execution_count": 192,
   "id": "925a38e2-1be9-406a-bd7b-404ecb8fd598",
   "metadata": {},
   "outputs": [],
   "source": [
    "df = pd.read_csv(\"food contamination data_cleaned2.csv\")"
   ]
  },
  {
   "cell_type": "code",
   "execution_count": 194,
   "id": "3cb7dd18-d91e-40c1-9ffd-bac2b4de4ea7",
   "metadata": {},
   "outputs": [],
   "source": [
    "if \"ContaminantName\" not in df.columns or \"ResultValue\" not in df.columns:\n",
    "    raise KeyError(\"Dataset must contain 'ContaminantName' and 'ResultValue' columns.\")\n",
    "\n",
    "df[\"ContaminantName\"] = df[\"ContaminantName\"].fillna(\"Unknown\")\n",
    "\n",
    "if \"FoodGroupName\" not in df.columns:\n",
    "    raise KeyError(\"Dataset must contain 'FoodGroupName' column.\")\n",
    "\n",
    "# Standardize text format\n",
    "df[\"ContaminantName\"] = df[\"ContaminantName\"].str.strip().str.lower()\n",
    "df[\"FoodGroupName\"] = df[\"FoodGroupName\"].str.strip().str.lower()\n",
    "\n",
    "# Initialize and fit LabelEncoders\n",
    "label_encoder_contaminant = LabelEncoder()\n",
    "label_encoder_foodgroup = LabelEncoder()\n",
    "\n",
    "df[\"ContaminantEncoded\"] = label_encoder_contaminant.fit_transform(df[\"ContaminantName\"])\n",
    "df[\"FoodGroupEncoded\"] = label_encoder_foodgroup.fit_transform(df[\"FoodGroupName\"])\n",
    "\n",
    "# Log transformation and scaling\n",
    "df[\"LogResultValue\"] = np.log1p(df[\"ResultValue\"])"
   ]
  },
  {
   "cell_type": "code",
   "execution_count": 196,
   "id": "901ba5db-8e79-4c1c-9ae1-ea1b9dab3943",
   "metadata": {},
   "outputs": [],
   "source": [
    "scaler = StandardScaler()\n",
    "df[\"ScaledLogResult\"] = scaler.fit_transform(df[[\"LogResultValue\"]])"
   ]
  },
  {
   "cell_type": "code",
   "execution_count": 198,
   "id": "ae111df9-d499-4178-9205-3d26a5f7b76b",
   "metadata": {},
   "outputs": [],
   "source": [
    "X = df[[\"ContaminantEncoded\", \"ScaledLogResult\", \"FoodGroupEncoded\"]]\n"
   ]
  },
  {
   "cell_type": "code",
   "execution_count": 200,
   "id": "97ade91d-fb1e-4c39-b425-4c6c982b6d10",
   "metadata": {},
   "outputs": [],
   "source": [
    "kmeans = KMeans(n_clusters=3, random_state=42, n_init=50)\n",
    "df[\"Cluster\"] = kmeans.fit_predict(X)"
   ]
  },
  {
   "cell_type": "code",
   "execution_count": 202,
   "id": "340f8d86-d86c-4571-8544-05164069eeea",
   "metadata": {},
   "outputs": [],
   "source": [
    "cluster_means = df.groupby(\"Cluster\")[\"ResultValue\"].mean().sort_values().index\n",
    "cluster_mapping = {cluster_means[0]: \"Low\", cluster_means[1]: \"Medium\", cluster_means[2]: \"High\"}\n"
   ]
  },
  {
   "cell_type": "code",
   "execution_count": 204,
   "id": "67e3f30c-34e3-49c1-83c0-7aa203bd5787",
   "metadata": {},
   "outputs": [
    {
     "data": {
      "text/plain": [
       "['kmeans_model.pkl']"
      ]
     },
     "execution_count": 204,
     "metadata": {},
     "output_type": "execute_result"
    }
   ],
   "source": [
    "joblib.dump(label_encoder_contaminant, \"contaminant_encoder.pkl\")\n",
    "joblib.dump(label_encoder_foodgroup, \"foodgroup_encoder.pkl\")\n",
    "joblib.dump(scaler, \"scaler.pkl\")\n",
    "joblib.dump(kmeans, \"kmeans_model.pkl\")\n"
   ]
  },
  {
   "cell_type": "code",
   "execution_count": 206,
   "id": "21a3b575-0922-4244-a748-a36dc259528e",
   "metadata": {},
   "outputs": [
    {
     "name": "stdout",
     "output_type": "stream",
     "text": [
      "Silhouette Score (Clustering Accuracy): 0.60\n"
     ]
    }
   ],
   "source": [
    "silhouette = silhouette_score(X, kmeans.labels_)\n",
    "print(f\"Silhouette Score (Clustering Accuracy): {silhouette:.2f}\")"
   ]
  },
  {
   "cell_type": "code",
   "execution_count": 216,
   "id": "7f779c2b-910e-4478-ae78-8a3a11f3e080",
   "metadata": {},
   "outputs": [
    {
     "name": "stdout",
     "output_type": "stream",
     "text": [
      "Warning: Some columns to drop were not found in df.\n",
      "   ContaminationIndividualID  FoodID    CountryName       FoodGroupName  \\\n",
      "0                       1644     121  HONG KONG SAR  legumes and pulses   \n",
      "1                       1645     121  HONG KONG SAR  legumes and pulses   \n",
      "2                       1646     121  HONG KONG SAR  legumes and pulses   \n",
      "3                       1647     121  HONG KONG SAR  legumes and pulses   \n",
      "4                       1648     121  HONG KONG SAR  legumes and pulses   \n",
      "\n",
      "  GEMSFoodName  ContaminantID  ContaminantName  ResultValue  Year  \\\n",
      "0       PULSES             36  ethyl carbamate          1.0  2008   \n",
      "1       PULSES             36  ethyl carbamate          2.8  2008   \n",
      "2       PULSES             36  ethyl carbamate          3.5  2008   \n",
      "3       PULSES             36  ethyl carbamate          0.8  2008   \n",
      "4       PULSES             36  ethyl carbamate         44.0  2008   \n",
      "\n",
      "   FoodGroupEncoded  LogResultValue  \n",
      "0                 3        0.693147  \n",
      "1                 3        1.335001  \n",
      "2                 3        1.504077  \n",
      "3                 3        0.587787  \n",
      "4                 3        3.806662  \n"
     ]
    }
   ],
   "source": [
    "# Ensure columns exist before dropping to avoid errors\n",
    "columns_to_drop = [\"ScaledLogResult\", \"ContaminantEncoded\", \"Cluster\"]\n",
    "\n",
    "# Check if all columns exist before attempting to drop them\n",
    "existing_columns = [col for col in columns_to_drop if col in df.columns]\n",
    "\n",
    "if existing_columns:  # Only drop if columns exist\n",
    "    df.drop(columns=existing_columns, inplace=True)\n",
    "else:\n",
    "    print(\"Warning: Some columns to drop were not found in df.\")\n",
    "\n",
    "print(df.head())  # Check if df is correct\n"
   ]
  },
  {
   "cell_type": "code",
   "execution_count": 218,
   "id": "47b9f6b3-2355-4767-b2df-27bc8e3d477a",
   "metadata": {},
   "outputs": [
    {
     "name": "stdout",
     "output_type": "stream",
     "text": [
      "Predicted Contamination Level for Tin in Milk and Dairy Products with value 100: Low\n"
     ]
    },
    {
     "name": "stderr",
     "output_type": "stream",
     "text": [
      "D:\\Anaconda\\Lib\\site-packages\\sklearn\\base.py:493: UserWarning: X does not have valid feature names, but StandardScaler was fitted with feature names\n",
      "  warnings.warn(\n",
      "D:\\Anaconda\\Lib\\site-packages\\sklearn\\base.py:493: UserWarning: X does not have valid feature names, but KMeans was fitted with feature names\n",
      "  warnings.warn(\n"
     ]
    }
   ],
   "source": [
    "def classify_contamination(new_contaminant, new_foodgroup, new_value, kmeans_model, scaler, label_encoder_contaminant, label_encoder_foodgroup, cluster_mapping):\n",
    "    # Standardize input text\n",
    "    new_contaminant = new_contaminant.strip().lower()\n",
    "    new_foodgroup = new_foodgroup.strip().lower()\n",
    "\n",
    "    # Handle unseen labels dynamically\n",
    "    if new_contaminant not in label_encoder_contaminant.classes_:\n",
    "        label_encoder_contaminant.classes_ = np.append(label_encoder_contaminant.classes_, new_contaminant)\n",
    "    \n",
    "    if new_foodgroup not in label_encoder_foodgroup.classes_:\n",
    "        label_encoder_foodgroup.classes_ = np.append(label_encoder_foodgroup.classes_, new_foodgroup)\n",
    "\n",
    "    # Encode inputs\n",
    "    encoded_contaminant = label_encoder_contaminant.transform([new_contaminant])[0]\n",
    "    encoded_foodgroup = label_encoder_foodgroup.transform([new_foodgroup])[0]\n",
    "\n",
    "    # Scale the log-transformed result value\n",
    "    log_value = np.log1p(new_value)\n",
    "    scaled_value = scaler.transform(np.array(log_value).reshape(-1, 1))[0][0]\n",
    "\n",
    "    # Predict cluster\n",
    "    cluster = kmeans_model.predict([[encoded_contaminant, scaled_value, encoded_foodgroup]])[0]\n",
    "\n",
    "    # Return contamination level\n",
    "    return cluster_mapping.get(cluster, \"Unknown\")\n",
    "\n",
    "# Load models for testing\n",
    "label_encoder_contaminant = joblib.load(\"contaminant_encoder.pkl\")\n",
    "label_encoder_foodgroup = joblib.load(\"foodgroup_encoder.pkl\")\n",
    "scaler = joblib.load(\"scaler.pkl\")\n",
    "kmeans = joblib.load(\"kmeans_model.pkl\")\n",
    "\n",
    "# Example: Classify a new sample\n",
    "new_foodgroup = \"Milk and Dairy Products\"\n",
    "new_contaminant = \"Tin\"\n",
    "new_value = 100  # Contaminant level\n",
    "\n",
    "classification = classify_contamination(\n",
    "    new_contaminant, \n",
    "    new_foodgroup, \n",
    "    new_value, \n",
    "    kmeans, \n",
    "    scaler, \n",
    "    label_encoder_contaminant, \n",
    "    label_encoder_foodgroup, \n",
    "    cluster_mapping\n",
    ")\n",
    "\n",
    "print(f\"Predicted Contamination Level for {new_contaminant} in {new_foodgroup} with value {new_value}: {classification}\")"
   ]
  },
  {
   "cell_type": "code",
   "execution_count": null,
   "id": "c7143e23-df55-4b83-88af-99abe5f6b1f1",
   "metadata": {},
   "outputs": [],
   "source": []
  }
 ],
 "metadata": {
  "kernelspec": {
   "display_name": "Python [conda env:base] *",
   "language": "python",
   "name": "conda-base-py"
  },
  "language_info": {
   "codemirror_mode": {
    "name": "ipython",
    "version": 3
   },
   "file_extension": ".py",
   "mimetype": "text/x-python",
   "name": "python",
   "nbconvert_exporter": "python",
   "pygments_lexer": "ipython3",
   "version": "3.12.7"
  }
 },
 "nbformat": 4,
 "nbformat_minor": 5
}
