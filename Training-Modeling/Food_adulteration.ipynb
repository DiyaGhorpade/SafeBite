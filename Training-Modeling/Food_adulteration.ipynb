{
  "nbformat": 4,
  "nbformat_minor": 0,
  "metadata": {
    "colab": {
      "provenance": []
    },
    "kernelspec": {
      "name": "python3",
      "display_name": "Python 3"
    },
    "language_info": {
      "name": "python"
    }
  },
  "cells": [
    {
      "cell_type": "code",
      "source": [
        "from sklearn.ensemble import RandomForestClassifier\n",
        "from sklearn.preprocessing import StandardScaler\n",
        "from sklearn.metrics import accuracy_score, classification_report\n",
        "from sklearn.model_selection import train_test_split, RandomizedSearchCV\n",
        "import numpy as np\n",
        "import pandas as pd"
      ],
      "metadata": {
        "id": "2iEto5Av6cC2"
      },
      "execution_count": 23,
      "outputs": []
    },
    {
      "cell_type": "code",
      "source": [
        "df = pd.read_csv('cleaned_encode_final1_food_adulteration.csv')\n",
        "# Define input (X) and output (y) variables\n",
        "X = df[['product_name','adulterant']]  # Replace with actual target column\n",
        "y = df['severity']  # Replace with actual target column\n",
        "\n"
      ],
      "metadata": {
        "id": "rsyGwJE66fyv"
      },
      "execution_count": 46,
      "outputs": []
    },
    {
      "cell_type": "code",
      "source": [
        "# Split the data into training and testing sets\n",
        "X_train, X_test, y_train, y_test = train_test_split(X, y, test_size=0.2, random_state=42)\n",
        "\n",
        "# Scale features\n",
        "scaler = StandardScaler()\n",
        "X_train = scaler.fit_transform(X_train)\n",
        "X_test = scaler.transform(X_test)\n"
      ],
      "metadata": {
        "id": "8Drv_QWz6mF4"
      },
      "execution_count": 47,
      "outputs": []
    },
    {
      "cell_type": "code",
      "source": [
        "# Define hyperparameter grid for RandomizedSearchCV\n",
        "param_dist = {\n",
        "    \"n_estimators\": np.arange(100, 1000, 100),  # Increased range\n",
        "    \"max_depth\": np.arange(10, 100, 10),       # Increased range\n",
        "    \"min_samples_split\": [2, 5, 10, 20],       # Added more options\n",
        "    \"min_samples_leaf\": [1, 2, 4, 8],          # Added more options\n",
        "    \"max_features\": [\"sqrt\", \"log2\", None],    # Added None for all features\n",
        "    \"bootstrap\": [True, False]\n",
        "}\n"
      ],
      "metadata": {
        "id": "DD0ssrGh68iR"
      },
      "execution_count": 48,
      "outputs": []
    },
    {
      "cell_type": "code",
      "source": [
        "# Perform RandomizedSearchCV\n",
        "random_search = RandomizedSearchCV(\n",
        "    RandomForestClassifier(random_state=42, class_weight=\"balanced\"),  # Added class_weight\n",
        "    param_distributions=param_dist,\n",
        "    n_iter=50,  # Increased iterations\n",
        "    cv=5,\n",
        "    scoring=\"accuracy\",\n",
        "    n_jobs=-1,\n",
        "    random_state=42\n",
        ")\n",
        "random_search.fit(X_train, y_train)"
      ],
      "metadata": {
        "id": "mLHRRZd07DvH"
      },
      "execution_count": null,
      "outputs": []
    },
    {
      "cell_type": "code",
      "source": [
        "# Get best model\n",
        "best_model = random_search.best_estimator_\n",
        "\n",
        "# Predict and evaluate\n",
        "y_pred = best_model.predict(X_test)\n",
        "\n",
        "# Print results\n",
        "print(\"Best Parameters:\", random_search.best_params_)\n",
        "print(\"Accuracy Score:\", accuracy_score(y_test, y_pred))\n",
        "print(\"Classification Report:\\n\", classification_report(y_test, y_pred))"
      ],
      "metadata": {
        "colab": {
          "base_uri": "https://localhost:8080/"
        },
        "id": "WLpDiE7J7GVf",
        "outputId": "b0d757a2-9fa5-48c2-e720-afbfda2a78f7"
      },
      "execution_count": 45,
      "outputs": [
        {
          "output_type": "stream",
          "name": "stdout",
          "text": [
            "Best Parameters: {'n_estimators': np.int64(700), 'min_samples_split': 10, 'min_samples_leaf': 1, 'max_features': None, 'max_depth': np.int64(70), 'bootstrap': True}\n",
            "Accuracy Score: 0.32\n",
            "Classification Report:\n",
            "               precision    recall  f1-score   support\n",
            "\n",
            "           1       0.39      0.44      0.41        73\n",
            "           2       0.30      0.22      0.25        65\n",
            "           3       0.26      0.29      0.27        62\n",
            "\n",
            "    accuracy                           0.32       200\n",
            "   macro avg       0.31      0.31      0.31       200\n",
            "weighted avg       0.32      0.32      0.32       200\n",
            "\n"
          ]
        }
      ]
    }
  ]
}